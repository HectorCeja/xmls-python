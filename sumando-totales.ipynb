{
 "cells": [
  {
   "cell_type": "markdown",
   "metadata": {},
   "source": [
    "# Sumando totales de xmls"
   ]
  },
  {
   "cell_type": "markdown",
   "metadata": {},
   "source": [
    "## leemos los archivos del path que asignemos"
   ]
  },
  {
   "cell_type": "code",
   "execution_count": 94,
   "metadata": {},
   "outputs": [],
   "source": [
    "from os import walk\n",
    "mypath = '/home/hectorceja/xml-sum/comida/abril/'\n",
    "mypath2 = '/home/hectorceja/xml-sum/transporte/abril/'\n",
    "mypath3 = '/home/hectorceja/xml-sum/transporte/hector-avion/'\n",
    "mypath4 = '/home/hectorceja/xml-sum/comida/hector/'\n",
    "\n",
    "paths = [mypath3,mypath4]\n",
    "f = []\n",
    "for p in paths:\n",
    "    for (dirpath, dirnames, filenames) in walk(p):\n",
    "        for file in filenames:\n",
    "            f.append(p+file)\n",
    "        break"
   ]
  },
  {
   "cell_type": "markdown",
   "metadata": {},
   "source": [
    "## extraemos solo los xmls"
   ]
  },
  {
   "cell_type": "code",
   "execution_count": 100,
   "metadata": {},
   "outputs": [],
   "source": [
    "xmls = []\n",
    "for file in f:\n",
    "    if file.lower().endswith('xml'):\n",
    "        xmls.append(file)"
   ]
  },
  {
   "cell_type": "code",
   "execution_count": 96,
   "metadata": {},
   "outputs": [],
   "source": [
    "import xml.etree.ElementTree as ET"
   ]
  },
  {
   "cell_type": "markdown",
   "metadata": {},
   "source": [
    "## obtenemos el atributo buscado, que es Total y lo sumamos"
   ]
  },
  {
   "cell_type": "code",
   "execution_count": 97,
   "metadata": {},
   "outputs": [],
   "source": [
    "tot = 0\n",
    "for xml in xmls:\n",
    "    tree = ET.parse(xml)\n",
    "    root = tree.getroot()\n",
    "    dict = root.attrib\n",
    "    total = dict['Total']\n",
    "    totalf = float(str(total))\n",
    "    tot = tot + totalf"
   ]
  },
  {
   "cell_type": "code",
   "execution_count": 99,
   "metadata": {},
   "outputs": [
    {
     "name": "stdout",
     "output_type": "stream",
     "text": [
      "7015.100000000001\n"
     ]
    }
   ],
   "source": [
    "print(tot)"
   ]
  },
  {
   "cell_type": "markdown",
   "metadata": {},
   "source": [
    "## como se puede ver, sumó todos los valores contenidos en el atributo Total de las facturas"
   ]
  },
  {
   "cell_type": "markdown",
   "metadata": {},
   "source": [
    "### En el repositorio no se encuentran las facturas"
   ]
  },
  {
   "cell_type": "code",
   "execution_count": null,
   "metadata": {},
   "outputs": [],
   "source": []
  }
 ],
 "metadata": {
  "kernelspec": {
   "display_name": "Python 3",
   "language": "python",
   "name": "python3"
  },
  "language_info": {
   "codemirror_mode": {
    "name": "ipython",
    "version": 3
   },
   "file_extension": ".py",
   "mimetype": "text/x-python",
   "name": "python",
   "nbconvert_exporter": "python",
   "pygments_lexer": "ipython3",
   "version": "3.6.5"
  }
 },
 "nbformat": 4,
 "nbformat_minor": 2
}
